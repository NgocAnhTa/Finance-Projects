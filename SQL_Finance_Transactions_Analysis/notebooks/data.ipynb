{
 "cells": [
  {
   "cell_type": "code",
   "execution_count": 4,
   "id": "2d2aa6b7",
   "metadata": {},
   "outputs": [
    {
     "name": "stdout",
     "output_type": "stream",
     "text": [
      "Project root: /Users/ngocanh/Documents/Buid/Project 2\n",
      "Data folder: /Users/ngocanh/Documents/Buid/Project 2/data\n",
      "Images folder: /Users/ngocanh/Documents/Buid/Project 2/images\n",
      "[OK] Saved 50,000 rows → /Users/ngocanh/Documents/Buid/Project 2/data/transactions.csv\n"
     ]
    }
   ],
   "source": [
    "from pathlib import Path\n",
    "import numpy as np, pandas as pd\n",
    "from datetime import datetime, timedelta\n",
    "\n",
    "# 1) Đặt project root đúng chỗ cậu muốn\n",
    "PROJECT_ROOT = Path(\"/Users/ngocanh/Documents/Buid/Project 2\")\n",
    "\n",
    "# 2) Tạo thư mục con\n",
    "DATA_DIR = PROJECT_ROOT / \"data\"\n",
    "IMAGES_DIR = PROJECT_ROOT / \"images\"\n",
    "DATA_DIR.mkdir(parents=True, exist_ok=True)\n",
    "IMAGES_DIR.mkdir(parents=True, exist_ok=True)\n",
    "\n",
    "print(\"Project root:\", PROJECT_ROOT)\n",
    "print(\"Data folder:\", DATA_DIR)\n",
    "print(\"Images folder:\", IMAGES_DIR)\n",
    "\n",
    "# 3) Sinh dữ liệu giả lập\n",
    "n = 50_000\n",
    "rng = np.random.default_rng(2024)\n",
    "\n",
    "users = rng.integers(1, 501, size=n)\n",
    "merchants = rng.choice(\n",
    "    [\"Amazon\",\"Walmart\",\"Target\",\"eBay\",\"BestBuy\",\"Starbucks\",\n",
    "     \"Uber\",\"Netflix\",\"Apple\",\"Google\",\"Microsoft\",\"Costco\"],\n",
    "    size=n\n",
    ")\n",
    "amounts = np.clip(rng.lognormal(mean=4.5, sigma=0.6, size=n), 1, 500).round(2)\n",
    "\n",
    "start = datetime(2024,1,1)\n",
    "dates = [(start + timedelta(days=int(d))).date().isoformat() \n",
    "         for d in rng.integers(0, 366, size=n)]\n",
    "\n",
    "df = pd.DataFrame({\n",
    "    \"transaction_id\": np.arange(1, n+1),\n",
    "    \"user_id\": users,\n",
    "    \"merchant\": merchants,\n",
    "    \"amount\": amounts,\n",
    "    \"date\": dates\n",
    "})\n",
    "\n",
    "# 4) Lưu file CSV\n",
    "out_path = DATA_DIR / \"transactions.csv\"\n",
    "df.to_csv(out_path, index=False)\n",
    "print(f\"[OK] Saved {len(df):,} rows → {out_path}\")"
   ]
  },
  {
   "cell_type": "code",
   "execution_count": 5,
   "id": "02084685",
   "metadata": {},
   "outputs": [
    {
     "name": "stdout",
     "output_type": "stream",
     "text": [
      "[OK] Loaded 50,000 rows vào /Users/ngocanh/Documents/Buid/Project 2/finance.db (table: transactions)\n",
      "   transaction_id  user_id merchant  amount        date\n",
      "0               1      121   Google  125.71  2024-05-10\n",
      "1               2      338     eBay   31.82  2024-09-24\n",
      "2               3       47     Uber  103.07  2024-10-17\n",
      "3               4      108   Target   90.16  2024-10-01\n",
      "4               5      159     Uber   63.28  2024-09-07\n"
     ]
    }
   ],
   "source": [
    "from pathlib import Path\n",
    "import pandas as pd\n",
    "import sqlite3\n",
    "\n",
    "# ===== 0) Đường dẫn project =====\n",
    "PROJECT_ROOT = Path(\"/Users/ngocanh/Documents/Buid/Project 2\")\n",
    "DATA_DIR = PROJECT_ROOT / \"data\"\n",
    "DB_PATH = PROJECT_ROOT / \"finance.db\"\n",
    "CSV_PATH = DATA_DIR / \"transactions.csv\"\n",
    "\n",
    "assert CSV_PATH.exists(), f\"Không tìm thấy {CSV_PATH}. Chạy Bước 1 trước nha.\"\n",
    "\n",
    "# ===== 1) Đọc CSV =====\n",
    "df = pd.read_csv(CSV_PATH)\n",
    "\n",
    "# ===== 2) Nạp vào SQLite =====\n",
    "conn = sqlite3.connect(DB_PATH)\n",
    "df.to_sql(\"transactions\", conn, if_exists=\"replace\", index=False)\n",
    "\n",
    "# (tuỳ chọn) tạo index để query nhanh hơn\n",
    "conn.execute(\"CREATE INDEX IF NOT EXISTS idx_transactions_user ON transactions(user_id);\")\n",
    "conn.execute(\"CREATE INDEX IF NOT EXISTS idx_transactions_date ON transactions(date);\")\n",
    "conn.commit()\n",
    "\n",
    "# ===== 3) Kiểm tra nhanh =====\n",
    "n_rows = conn.execute(\"SELECT COUNT(*) FROM transactions;\").fetchone()[0]\n",
    "sample = pd.read_sql(\"SELECT * FROM transactions LIMIT 5;\", conn)\n",
    "\n",
    "print(f\"[OK] Loaded {n_rows:,} rows vào {DB_PATH} (table: transactions)\")\n",
    "print(sample)\n",
    "\n",
    "conn.close()"
   ]
  },
  {
   "cell_type": "code",
   "execution_count": null,
   "id": "fb0e8e98",
   "metadata": {},
   "outputs": [
    {
     "ename": "SyntaxError",
     "evalue": "invalid syntax (74908919.py, line 1)",
     "output_type": "error",
     "traceback": [
      "\u001b[0;36m  Cell \u001b[0;32mIn[6], line 1\u001b[0;36m\u001b[0m\n\u001b[0;31m    -- Đếm số dòng\u001b[0m\n\u001b[0m           ^\u001b[0m\n\u001b[0;31mSyntaxError\u001b[0m\u001b[0;31m:\u001b[0m invalid syntax\n"
     ]
    }
   ],
   "source": [
    "\n"
   ]
  },
  {
   "cell_type": "code",
   "execution_count": null,
   "id": "9c465322",
   "metadata": {},
   "outputs": [],
   "source": []
  }
 ],
 "metadata": {
  "kernelspec": {
   "display_name": "ml",
   "language": "python",
   "name": "python3"
  },
  "language_info": {
   "codemirror_mode": {
    "name": "ipython",
    "version": 3
   },
   "file_extension": ".py",
   "mimetype": "text/x-python",
   "name": "python",
   "nbconvert_exporter": "python",
   "pygments_lexer": "ipython3",
   "version": "3.9.21"
  }
 },
 "nbformat": 4,
 "nbformat_minor": 5
}
