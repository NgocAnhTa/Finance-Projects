{
 "cells": [
  {
   "cell_type": "code",
   "execution_count": 1,
   "id": "9cb2ee5b",
   "metadata": {},
   "outputs": [
    {
     "name": "stdout",
     "output_type": "stream",
     "text": [
      "[INFO] Downloading prices for ['AAPL', 'TSLA', 'AMZN', 'MSFT'] from 2020-09-14 to 2025-09-23\n",
      "[OK] Saved prices -> /Users/ngocanh/Documents/Buid/Project 3/data/stock_prices.csv\n",
      "[OK] Saved returns (long & wide)\n",
      "\n",
      "[DONE] Step 1 complete. Files ready:\n",
      " - data/stock_prices.csv\n",
      " - data/stock_returns_long.csv\n",
      " - data/stock_returns_wide.csv\n"
     ]
    }
   ],
   "source": [
    "# build_step1_dataset.py\n",
    "# -----------------------\n",
    "# Bước 1: Tải dữ liệu giá từ Yahoo Finance và tính daily return\n",
    "# Output: stock_prices.csv và stock_returns_long.csv (để import Power BI)\n",
    "\n",
    "import os\n",
    "from datetime import datetime, timedelta\n",
    "import pandas as pd\n",
    "import yfinance as yf\n",
    "\n",
    "# ========= CONFIG =========\n",
    "TICKERS = [\"AAPL\", \"TSLA\", \"AMZN\", \"MSFT\"]\n",
    "END = datetime.today().date()\n",
    "START = END - timedelta(days=365*5 + 10)   # 5 năm gần nhất\n",
    "BASE_DIR = \"/Users/ngocanh/Documents/Buid/Project 3\"\n",
    "DATA_DIR = os.path.join(BASE_DIR, \"data\")\n",
    "os.makedirs(DATA_DIR, exist_ok=True)\n",
    "# ==========================\n",
    "\n",
    "def fetch_prices(tickers, start, end):\n",
    "    df = yf.download(\n",
    "        tickers=tickers,\n",
    "        start=start,\n",
    "        end=end + timedelta(days=1),\n",
    "        auto_adjust=False,\n",
    "        progress=False\n",
    "    )\n",
    "    if isinstance(df.columns, pd.MultiIndex):\n",
    "        if \"Adj Close\" in df.columns.get_level_values(0):\n",
    "            prices = df[\"Adj Close\"].copy()\n",
    "        else:\n",
    "            prices = df[\"Close\"].copy()\n",
    "    else:\n",
    "        col_name = tickers[0] if isinstance(tickers, list) and len(tickers) == 1 else \"Price\"\n",
    "        prices = df.rename(columns={df.columns[0]: col_name})\n",
    "    prices = prices.dropna(how=\"all\")\n",
    "    prices.index.name = \"Date\"\n",
    "    return prices\n",
    "\n",
    "def compute_returns(prices_wide):\n",
    "    returns_wide = prices_wide.sort_index().pct_change().dropna(how=\"all\")\n",
    "    returns_wide.index = pd.to_datetime(returns_wide.index)\n",
    "    returns_long = returns_wide.reset_index().melt(id_vars=\"Date\", var_name=\"Ticker\", value_name=\"Return\")\n",
    "    return returns_long, returns_wide\n",
    "\n",
    "def main():\n",
    "    print(f\"[INFO] Downloading prices for {TICKERS} from {START} to {END}\")\n",
    "    prices = fetch_prices(TICKERS, START, END)\n",
    "\n",
    "    # Lưu giá gốc\n",
    "    prices_out = os.path.join(DATA_DIR, \"stock_prices.csv\")\n",
    "    prices.to_csv(prices_out, index=True)\n",
    "    print(f\"[OK] Saved prices -> {prices_out}\")\n",
    "\n",
    "    # Tính returns\n",
    "    returns_long, returns_wide = compute_returns(prices)\n",
    "    returns_long.to_csv(os.path.join(DATA_DIR, \"stock_returns_long.csv\"), index=False)\n",
    "    returns_wide.to_csv(os.path.join(DATA_DIR, \"stock_returns_wide.csv\"), index=True)\n",
    "    print(\"[OK] Saved returns (long & wide)\")\n",
    "\n",
    "    print(\"\\n[DONE] Step 1 complete. Files ready:\")\n",
    "    print(\" - data/stock_prices.csv\")\n",
    "    print(\" - data/stock_returns_long.csv\")\n",
    "    print(\" - data/stock_returns_wide.csv\")\n",
    "\n",
    "if __name__ == \"__main__\":\n",
    "    main()"
   ]
  }
 ],
 "metadata": {
  "kernelspec": {
   "display_name": "ml",
   "language": "python",
   "name": "python3"
  },
  "language_info": {
   "codemirror_mode": {
    "name": "ipython",
    "version": 3
   },
   "file_extension": ".py",
   "mimetype": "text/x-python",
   "name": "python",
   "nbconvert_exporter": "python",
   "pygments_lexer": "ipython3",
   "version": "3.9.21"
  }
 },
 "nbformat": 4,
 "nbformat_minor": 5
}
